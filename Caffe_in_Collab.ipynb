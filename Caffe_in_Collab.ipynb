{
  "nbformat": 4,
  "nbformat_minor": 0,
  "metadata": {
    "colab": {
      "name": "Caffe_in_Collab.ipynb",
      "version": "0.3.2",
      "provenance": [],
      "collapsed_sections": [],
      "include_colab_link": true
    }
  },
  "cells": [
    {
      "cell_type": "markdown",
      "metadata": {
        "id": "view-in-github",
        "colab_type": "text"
      },
      "source": [
        "[View in Colaboratory](https://colab.research.google.com/github/samsam915/practice/blob/master/Caffe_in_Collab.ipynb)"
      ]
    },
    {
      "metadata": {
        "id": "lMwmIud2FBe-",
        "colab_type": "text"
      },
      "cell_type": "markdown",
      "source": [
        "#在colab中安装Caffe"
      ]
    },
    {
      "metadata": {
        "id": "YlMXW6_Wxi6h",
        "colab_type": "text"
      },
      "cell_type": "markdown",
      "source": [
        "首先执行以下代码，以便安装必要的库并执行授权\n",
        "\n",
        "运行可以看到如下结果：此时，点击链接地址，获取验证码。\n",
        "![替代文字](https://static.234du.com/wp-content/uploads/2018/02/gpu8.png)"
      ]
    },
    {
      "metadata": {
        "id": "xzcI4ca3xiL6",
        "colab_type": "code",
        "colab": {}
      },
      "cell_type": "code",
      "source": [
        "!apt-get install -y -qq software-properties-common python-software-properties module-init-tools\n",
        "!add-apt-repository -y ppa:alessandro-strada/ppa 2>&1 > /dev/null\n",
        "!apt-get update -qq 2>&1 > /dev/null\n",
        "!apt-get -y install -qq google-drive-ocamlfuse fuse\n",
        "from google.colab import auth\n",
        "auth.authenticate_user()\n",
        "from oauth2client.client import GoogleCredentials\n",
        "creds = GoogleCredentials.get_application_default()\n",
        "import getpass\n",
        "!google-drive-ocamlfuse -headless -id={creds.client_id} -secret={creds.client_secret} < /dev/null 2>&1 | grep URL\n",
        "vcode = getpass.getpass()\n",
        "!echo {vcode} | google-drive-ocamlfuse -headless -id={creds.client_id} -secret={creds.client_secret}"
      ],
      "execution_count": 0,
      "outputs": []
    },
    {
      "metadata": {
        "id": "0vVThcC9yxOB",
        "colab_type": "text"
      },
      "cell_type": "markdown",
      "source": [
        "挂载Google Drive\n",
        "并进入Google Drive目录"
      ]
    },
    {
      "metadata": {
        "id": "o1-I2Uy8y0BD",
        "colab_type": "code",
        "colab": {}
      },
      "cell_type": "code",
      "source": [
        "!mkdir -p drive\n",
        "!google-drive-ocamlfuse drive\n",
        "\n",
        "%cd drive"
      ],
      "execution_count": 0,
      "outputs": []
    },
    {
      "metadata": {
        "id": "3d3gwR7dtecj",
        "colab_type": "code",
        "colab": {}
      },
      "cell_type": "code",
      "source": [
        "#获取caffe源码\n",
        "!git clone https://github.com/BVLC/caffe.git"
      ],
      "execution_count": 0,
      "outputs": []
    },
    {
      "metadata": {
        "id": "6Egf_Dvrt6sl",
        "colab_type": "code",
        "colab": {}
      },
      "cell_type": "code",
      "source": [
        "#安装依赖项\n",
        "! apt-get install libprotobuf-dev libleveldb-dev libsnappy-dev libopencv-dev libhdf5-serial-dev protobuf-compiler\n",
        "! apt-get install --no-install-recommends libboost-all-dev\n",
        "! apt-get install libopenblas-dev liblapack-dev libatlas-base-dev\n",
        "! apt-get install libgflags-dev libgoogle-glog-dev liblmdb-dev\n",
        "! apt-get install git cmake build-essential\n",
        "!apt-get -qq install -y libsm6 libxext6 && pip install -q -U opencv-python"
      ],
      "execution_count": 0,
      "outputs": []
    },
    {
      "metadata": {
        "id": "yIhnunirugu8",
        "colab_type": "code",
        "colab": {}
      },
      "cell_type": "code",
      "source": [
        "%cd caffe/\n",
        "!cp Makefile.config.example Makefile.config"
      ],
      "execution_count": 0,
      "outputs": []
    },
    {
      "metadata": {
        "id": "CS1kKr1D8dyy",
        "colab_type": "text"
      },
      "cell_type": "markdown",
      "source": [
        "编辑Makefile.config文件：\n",
        "\n",
        "1.去掉# CPU_ONLY := 1前面的#号\n",
        "\n",
        "2.修改配置引用文件路径（主要是HDF5的路径问题）\n",
        "\n",
        "原来的路径配置如下图：\n",
        "\n",
        "![替代文字](https://img-blog.csdn.net/20161121135823261)\n",
        "\n",
        "修改为如下图：\n",
        "![替代文字](https://img-blog.csdn.net/20161121135912324)\n",
        "\n",
        "3.去掉/# WITH_PYTHON_LAYER := 1前面的#"
      ]
    },
    {
      "metadata": {
        "id": "zO0W19d2JQRw",
        "colab_type": "code",
        "colab": {}
      },
      "cell_type": "code",
      "source": [
        "#修改配置文件\n",
        "!sed -i 's/# CPU_ONLY := 1/CPU_ONLY := 1/g' Makefile.config\n",
        "!sed -i \"s/\\/usr\\/local\\/include/\\/usr\\/local\\/include \\/usr\\/include\\/hdf5\\/serial/g\"  Makefile.config\n",
        "!sed -i \"s/\\/usr\\/local\\/lib \\/usr\\/lib/\\/usr\\/local\\/lib \\/usr\\/lib \\/usr\\/lib\\/x86_64-linux-gnu\\/hdf5\\/serial/g\"  Makefile.config\n",
        "!sed -i \"s/# WITH_PYTHON_LAYER := 1/WITH_PYTHON_LAYER := 1/g\"  Makefile.config"
      ],
      "execution_count": 0,
      "outputs": []
    },
    {
      "metadata": {
        "id": "9GPG_mNxzdEl",
        "colab_type": "code",
        "colab": {}
      },
      "cell_type": "code",
      "source": [
        "#开始编译\n",
        "!mkdir build\n",
        "!cd build\n",
        "!cake ..\n",
        "!make all -j32\n",
        "!make install"
      ],
      "execution_count": 0,
      "outputs": []
    },
    {
      "metadata": {
        "id": "iU4BCWweE5eR",
        "colab_type": "text"
      },
      "cell_type": "markdown",
      "source": [
        "编译完成后，输入!caffe命令，若能执行成功，则说明编译成功。"
      ]
    },
    {
      "metadata": {
        "id": "f48pqr3Zznz0",
        "colab_type": "code",
        "colab": {}
      },
      "cell_type": "code",
      "source": [
        "#编译python接口\n",
        "#进入caffe根目录下\n",
        "!cd ..\n",
        "!for req in $(cat requirements.txt); do pip install $req; done\n",
        "!apt-get install python-numpy\n",
        "!make pycaffe -j32\n"
      ],
      "execution_count": 0,
      "outputs": []
    },
    {
      "metadata": {
        "id": "7jBnkUeAFJVJ",
        "colab_type": "text"
      },
      "cell_type": "markdown",
      "source": [
        "编译完成后，可以执行import caffe，说明python接口编译成功。"
      ]
    }
  ]
}